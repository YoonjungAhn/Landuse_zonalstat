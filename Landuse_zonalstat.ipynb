{
 "cells": [
  {
   "cell_type": "code",
   "execution_count": 9,
   "id": "991f83be",
   "metadata": {},
   "outputs": [
    {
     "name": "stdout",
     "output_type": "stream",
     "text": [
      "Downloading https://github.com/giswqs/geemap/archive/master.zip ...\n",
      "Unzipping geemap-master.zip ...\n",
      "Data downloaded to: C:\\Users\\yoah2447\\Downloads\\geemap-master\n",
      "\n",
      "Please comment out 'geemap.update_package()' and restart the kernel to take effect:\n",
      "Jupyter menu -> Kernel -> Restart & Clear Output\n"
     ]
    }
   ],
   "source": [
    "import geemap\n",
    "geemap.update_package()\n",
    "import geemap.foliumap as geemap\n",
    "import ee\n",
    "import geemap\n",
    "import geemap.colormaps as cm\n",
    "Map = geemap.Map(center=[40,-100], zoom=4)\n",
    "Map\n",
    "import pandas as pd"
   ]
  },
  {
   "cell_type": "markdown",
   "id": "d06ce911",
   "metadata": {},
   "source": [
    "# mapping landcover 2016 and state boundary"
   ]
  },
  {
   "cell_type": "markdown",
   "id": "b6eda301",
   "metadata": {},
   "source": [
    "*note : 2010 boundary doesn't have all the states"
   ]
  },
  {
   "cell_type": "code",
   "execution_count": 47,
   "id": "b5d0f1c6",
   "metadata": {},
   "outputs": [
    {
     "data": {
      "application/vnd.jupyter.widget-view+json": {
       "model_id": "1698b768a560417db32aad67cda6cbde",
       "version_major": 2,
       "version_minor": 0
      },
      "text/plain": [
       "Map(center=[40, -100], controls=(WidgetControl(options=['position', 'transparent_bg'], widget=HBox(children=(T…"
      ]
     },
     "execution_count": 47,
     "metadata": {},
     "output_type": "execute_result"
    }
   ],
   "source": [
    "Map = geemap.Map(center=[40, -100], zoom=4)\n",
    "Map\n",
    "#dem = ee.Image('USGS/SRTMGL1_003')\n",
    "dataset = ee.ImageCollection('USGS/NLCD_RELEASES/2016_REL')\n",
    "nlcd2016 = dataset.filter(ee.Filter.eq('system:index', '2016')).first();\n",
    "landcover = nlcd2016.select('landcover');\n",
    "Map.addLayer(landcover, {}, 'landcover')\n",
    "\n",
    "# Map.addLayer(\n",
    "#     landcover,\n",
    "#     {'bands': ['landcover'], 'min': 0, 'max': 95},\n",
    "#     'landcover',\n",
    "# )\n",
    "Map\n",
    "i = 1\n",
    "#county = ee.Image(\"TIGER/2016/Counties\") #.filter(ee.Filter.eq('STATEFP', '23'));\n",
    "#county = ee.FeatureCollection(\"TIGER/2020/TRACT\").filter(ee.Filter.eq('STATEFP', '23'));\n",
    "#county =ee.FeatureCollection(\"TIGER/2020/TABBLOCK20\").filter(ee.Filter.eq('COUNTYFP20', '103')).filter(ee.Filter.eq('STATEFP20', '13'));\n",
    "#county =ee.FeatureCollection(\"TIGER/2010/BG\").filter(ee.Filter.eq('COUNTYFP10', DF['COUNTYFP'][i])).filter(ee.Filter.eq('STATEFP10',DF['STATEFP'][i]));\n",
    "county =ee.FeatureCollection(\"TIGER/2010/BG\")\n",
    "\n",
    "Map.addLayer(county, {}, 'US States')\n",
    "Map"
   ]
  },
  {
   "cell_type": "markdown",
   "id": "a794c1a8",
   "metadata": {},
   "source": [
    "## mapping landcover 2019 and state boundary"
   ]
  },
  {
   "cell_type": "code",
   "execution_count": null,
   "id": "1ea9eb0a",
   "metadata": {},
   "outputs": [],
   "source": [
    "Map = geemap.Map(center=[40, -100], zoom=4)\n",
    "\n",
    "dataset = ee.Image('USGS/NLCD_RELEASES/2019_REL/NLCD/2019')\n",
    "landcover = dataset.select('landcover')\n",
    "Map.addLayer(landcover, {}, 'NLCD 2019')\n",
    "\n",
    "states = ee.FeatureCollection(\"TIGER/2018/States\")\n",
    "Map.addLayer(states, {}, 'US States')\n",
    "Map.add_legend(builtin_legend='NLCD')\n",
    "Map"
   ]
  },
  {
   "cell_type": "markdown",
   "id": "218420c0",
   "metadata": {},
   "source": [
    "# zonal stat "
   ]
  },
  {
   "cell_type": "markdown",
   "id": "1ab3943e",
   "metadata": {},
   "source": [
    "# census tract level (2010 census boundary)"
   ]
  },
  {
   "cell_type": "code",
   "execution_count": 52,
   "id": "8b96a513",
   "metadata": {},
   "outputs": [],
   "source": [
    "DF = pd.read_csv('D:/DATA/NHGIS/nhgis0026_shape (1)/nhgis0026_shape/nhgis0026_shapefile_tl2010_us_tract_2010/US_tract_2010.csv')\n",
    "\n",
    "DF['GEOID'] =DF['GEOID'].apply(lambda x: '{0:0>11}'.format(x))\n",
    "DF['STATEFP10'] =DF['STATEFP10'].apply(lambda x: '{0:0>2}'.format(x))\n",
    "DF['COUNTYFP10'] =DF['COUNTYFP10'].apply(lambda x: '{0:0>2}'.format(x))\n",
    "\n",
    "\n",
    "# DF = pd.read_csv('./countyfips.csv')\n",
    "# DF['STATEFP'] =DF['STATEFP'].apply(lambda x: '{0:0>2}'.format(x))\n",
    "# DF['COUNTYFP'] =DF['COUNTYFP'].apply(lambda x: '{0:0>3}'.format(x))\n",
    "# DF['GEOID'] =DF['GEOID'].apply(lambda x: '{0:0>5}'.format(x))\n",
    "# DF"
   ]
  },
  {
   "cell_type": "code",
   "execution_count": null,
   "id": "797b21bd",
   "metadata": {},
   "outputs": [],
   "source": [
    "Map = geemap.Map(center=[40, -100], zoom=4)\n",
    "\n",
    "dataset = ee.ImageCollection('USGS/NLCD_RELEASES/2016_REL')\n",
    "nlcd2016 = dataset.filter(ee.Filter.eq('system:index', '2016')).first();\n",
    "landcover = nlcd2016.select('landcover');\n",
    "# Map.addLayer(landcover, {}, 'landcover')\n",
    "# i=1\n",
    "# states = ee.FeatureCollection(\"TIGER/2010/BG\").filter(ee.Filter.eq('COUNTYFP10', DF['COUNTYFP'][i])).filter(ee.Filter.eq('STATEFP10',DF['STATEFP'][i]));\n",
    "# Map.addLayer(states, {}, 'US States')\n",
    "# Map.add_legend(builtin_legend='NLCD')\n",
    "# Map\n",
    "\n",
    "\n",
    "for i in range(0,len(DF)):\n",
    "    county = ee.FeatureCollection(\"TIGER/2010/Tracts_DP1\").filter(ee.Filter.eq('geoid10', DF['GEOID'][i]));\n",
    "    #county =ee.FeatureCollection(\"TIGER/2020/TABBLOCK20\").filter(ee.Filter.eq('COUNTYFP20', DF['COUNTYFP'][i])).filter(ee.Filter.eq('STATEFP20',DF['STATEFP'][i]));\n",
    "    #county =ee.FeatureCollection(\"TIGER/2010/BG\").filter(ee.Filter.eq('COUNTYFP10', DF['COUNTYFP'][i])).filter(ee.Filter.eq('STATEFP10',DF['STATEFP'][i]));\n",
    "\n",
    "    nlcd_stats = './censustract2010boundary/lu_stats'+str(DF['GEOID'][i])+'.csv'\n",
    "    try:\n",
    "        geemap.zonal_statistics_by_group(\n",
    "            landcover,\n",
    "            county,\n",
    "            nlcd_stats,\n",
    "            statistics_type='SUM',\n",
    "            denominator=1000000,\n",
    "            decimal_places=2,\n",
    "        )\n",
    "    except Exception:\n",
    "        pass"
   ]
  },
  {
   "cell_type": "markdown",
   "id": "9fe13444",
   "metadata": {},
   "source": [
    "# census tract level (2020 census boundary)"
   ]
  },
  {
   "cell_type": "code",
   "execution_count": 7,
   "id": "c3929123",
   "metadata": {},
   "outputs": [
    {
     "data": {
      "text/plain": [
       "<bound method NDFrame.tail of       GEOID STATEFP COUNTYFP\n",
       "0      1107      01      107\n",
       "1      1065      01      065\n",
       "2      1125      01      125\n",
       "3      1055      01      055\n",
       "4      1015      01      015\n",
       "...     ...     ...      ...\n",
       "3228  72061      72      061\n",
       "3229  72127      72      127\n",
       "3230  78030      78      030\n",
       "3231  78020      78      020\n",
       "3232  78010      78      010\n",
       "\n",
       "[3233 rows x 3 columns]>"
      ]
     },
     "execution_count": 7,
     "metadata": {},
     "output_type": "execute_result"
    }
   ],
   "source": [
    "DF = pd.read_csv('./countyfips.csv')\n",
    "DF['STATEFP'] =DF['STATEFP'].apply(lambda x: '{0:0>2}'.format(x))\n",
    "DF['COUNTYFP'] =DF['COUNTYFP'].apply(lambda x: '{0:0>3}'.format(x))\n",
    "DF.loc[932]\n",
    "DF.tail\n"
   ]
  },
  {
   "cell_type": "code",
   "execution_count": null,
   "id": "9c85acab",
   "metadata": {},
   "outputs": [],
   "source": [
    "dataset = ee.ImageCollection('USGS/NLCD_RELEASES/2016_REL')\n",
    "nlcd2016 = dataset.filter(ee.Filter.eq('system:index', '2016')).first();\n",
    "landcover = nlcd2016.select('landcover');\n",
    "\n",
    "\n",
    "for i in range(0,len(DF)):\n",
    "    county = ee.FeatureCollection(\"TIGER/2020/TRACT\").filter(ee.Filter.eq('STATEFP', fips));\n",
    "    #county =ee.FeatureCollection(\"TIGER/2020/TABBLOCK20\").filter(ee.Filter.eq('COUNTYFP20', DF['COUNTYFP'][i])).filter(ee.Filter.eq('STATEFP20',DF['STATEFP'][i]));\n",
    "    #county =ee.FeatureCollection(\"TIGER/2010/BG\").filter(ee.Filter.eq('COUNTYFP10', DF['COUNTYFP'][i])).filter(ee.Filter.eq('STATEFP10',DF['STATEFP'][i]));\n",
    "\n",
    "    nlcd_stats = './censustract2020boundary/lu_stats'+DF['STATEFP'][i]+ DF['COUNTYFP'][i]+'.csv'\n",
    "    try:\n",
    "        geemap.zonal_statistics_by_group(\n",
    "            landcover,\n",
    "            county,\n",
    "            nlcd_stats,\n",
    "            statistics_type='SUM',\n",
    "            denominator=1000000,\n",
    "            decimal_places=2,\n",
    "        )\n",
    "    except Exception:\n",
    "        pass"
   ]
  },
  {
   "cell_type": "markdown",
   "id": "7a2a4fc3",
   "metadata": {},
   "source": [
    "# Census block level (2010 census boundary) "
   ]
  },
  {
   "cell_type": "code",
   "execution_count": 1,
   "id": "61d0551a",
   "metadata": {},
   "outputs": [],
   "source": [
    "dataset = ee.ImageCollection('USGS/NLCD_RELEASES/2016_REL')\n",
    "nlcd2016 = dataset.filter(ee.Filter.eq('system:index', '2016')).first();\n",
    "landcover = nlcd2016.select('landcover');\n",
    "\n",
    "for i in range(3000,len(DF)):\n",
    "    #county = ee.FeatureCollection(\"TIGER/2020/TRACT\").filter(ee.Filter.eq('STATEFP', fips));\n",
    "    #county =ee.FeatureCollection(\"TIGER/2020/TABBLOCK20\").filter(ee.Filter.eq('COUNTYFP20', DF['COUNTYFP'][i])).filter(ee.Filter.eq('STATEFP20',DF['STATEFP'][i]));\n",
    "    county =ee.FeatureCollection(\"TIGER/2010/BG\").filter(ee.Filter.eq('COUNTYFP10', DF['COUNTYFP'][i])).filter(ee.Filter.eq('STATEFP10',DF['STATEFP'][i]));\n",
    "\n",
    "    nlcd_stats = './Blocklevel_2010boundary/lu_stats'+DF['STATEFP'][i]+ DF['COUNTYFP'][i]+'.csv'\n",
    "    try:\n",
    "        geemap.zonal_statistics_by_group(\n",
    "            landcover,\n",
    "            county,\n",
    "            nlcd_stats,\n",
    "            statistics_type='SUM',\n",
    "            denominator=1000000,\n",
    "            decimal_places=2,\n",
    "        )\n",
    "    except Exception:\n",
    "        pass"
   ]
  },
  {
   "cell_type": "markdown",
   "id": "d4a951ee",
   "metadata": {},
   "source": [
    "# census block level (2020 census boundary)"
   ]
  },
  {
   "cell_type": "code",
   "execution_count": 2,
   "id": "d509667e",
   "metadata": {},
   "outputs": [],
   "source": [
    "dataset = ee.ImageCollection('USGS/NLCD_RELEASES/2016_REL')\n",
    "nlcd2016 = dataset.filter(ee.Filter.eq('system:index', '2016')).first();\n",
    "landcover = nlcd2016.select('landcover');\n",
    "\n",
    "\n",
    "for i in range(0,len(DF)):\n",
    "    #county = ee.FeatureCollection(\"TIGER/2020/TRACT\").filter(ee.Filter.eq('STATEFP', fips));\n",
    "    county =ee.FeatureCollection(\"TIGER/2020/TABBLOCK20\").filter(ee.Filter.eq('COUNTYFP20', DF['COUNTYFP'][i])).filter(ee.Filter.eq('STATEFP20',DF['STATEFP'][i]));\n",
    "    #county =ee.FeatureCollection(\"TIGER/2010/BG\").filter(ee.Filter.eq('COUNTYFP10', DF['COUNTYFP'][i])).filter(ee.Filter.eq('STATEFP10',DF['STATEFP'][i]));\n",
    "\n",
    "    nlcd_stats = './Blocklevel_2020boundary/lu_stats'+DF['STATEFP'][i]+ DF['COUNTYFP'][i]+'.csv'\n",
    "    try:\n",
    "        geemap.zonal_statistics_by_group(\n",
    "            landcover,\n",
    "            county,\n",
    "            nlcd_stats,\n",
    "            statistics_type='SUM',\n",
    "            denominator=1000000,\n",
    "            decimal_places=2,\n",
    "        )\n",
    "    except Exception:\n",
    "        pass"
   ]
  },
  {
   "cell_type": "markdown",
   "id": "fbb477f0",
   "metadata": {},
   "source": [
    "## combine all files"
   ]
  },
  {
   "cell_type": "code",
   "execution_count": 57,
   "id": "799a339c",
   "metadata": {},
   "outputs": [
    {
     "data": {
      "text/plain": [
       "array(['06', '15', '32', '41', '53', '01', '04', '05', '12', '22', '28',\n",
       "       '35', '40', '47', '48', '13', '37', '45', '72', '08', '16', '17',\n",
       "       '18', '19', '20', '21', '26', '27', '29', '30', '31', '38', '46',\n",
       "       '49', '55', '56', '09', '10', '11', '23', '24', '25', '33', '34',\n",
       "       '36', '39', '42', '44', '50', '51', '54', '02'], dtype=object)"
      ]
     },
     "execution_count": 57,
     "metadata": {},
     "output_type": "execute_result"
    }
   ],
   "source": [
    "ST = DF['STATEFP10'].unique()\n",
    "ST"
   ]
  },
  {
   "cell_type": "code",
   "execution_count": 59,
   "id": "7a14e822",
   "metadata": {},
   "outputs": [],
   "source": [
    "import glob \n",
    "import pandas as pd\n",
    "for st in ST : \n",
    "    files = [i for i in glob.glob('C:/Users/yoah2447/Documents/02_Elevation/Blocklevel_2020boundary/lu_stats'+st+'*.csv') ]\n",
    "    df = pd.concat([pd.read_csv(f) for f in files], axis = 0)\n",
    "    df.to_csv( 'C:/Users/yoah2447/Documents/02_Elevation/2016lu_stats_2020blocklevel_'+st+'.csv', index=False)"
   ]
  }
 ],
 "metadata": {
  "kernelspec": {
   "display_name": "Python 3 (ipykernel)",
   "language": "python",
   "name": "python3"
  },
  "language_info": {
   "codemirror_mode": {
    "name": "ipython",
    "version": 3
   },
   "file_extension": ".py",
   "mimetype": "text/x-python",
   "name": "python",
   "nbconvert_exporter": "python",
   "pygments_lexer": "ipython3",
   "version": "3.10.5"
  }
 },
 "nbformat": 4,
 "nbformat_minor": 5
}
