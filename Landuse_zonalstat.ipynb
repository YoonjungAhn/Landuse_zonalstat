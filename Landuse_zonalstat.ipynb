{
 "cells": [
  {
   "cell_type": "code",
   "execution_count": 3,
   "id": "991f83be",
   "metadata": {},
   "outputs": [
    {
     "name": "stdout",
     "output_type": "stream",
     "text": [
      "Downloading https://github.com/giswqs/geemap/archive/master.zip ...\n",
      "Unzipping geemap-master.zip ...\n",
      "Data downloaded to: C:\\Users\\yoah2447\\Downloads\\geemap-master\n",
      "\n",
      "Please comment out 'geemap.update_package()' and restart the kernel to take effect:\n",
      "Jupyter menu -> Kernel -> Restart & Clear Output\n"
     ]
    }
   ],
   "source": [
    "import geemap\n",
    "geemap.update_package()\n",
    "import geemap.foliumap as geemap\n",
    "import ee\n",
    "import geemap\n",
    "import geemap.colormaps as cm\n",
    "Map = geemap.Map(center=[40,-100], zoom=4)\n",
    "Map\n",
    "import pandas as pd"
   ]
  },
  {
   "cell_type": "markdown",
   "id": "d06ce911",
   "metadata": {},
   "source": [
    "# mapping landcover 2016 and state boundary"
   ]
  },
  {
   "cell_type": "code",
   "execution_count": null,
   "id": "b5d0f1c6",
   "metadata": {},
   "outputs": [],
   "source": [
    "Map = geemap.Map(center=[40, -100], zoom=4)\n",
    "Map\n",
    "#dem = ee.Image('USGS/SRTMGL1_003')\n",
    "dataset = ee.ImageCollection('USGS/NLCD_RELEASES/2016_REL')\n",
    "nlcd2016 = dataset.filter(ee.Filter.eq('system:index', '2016')).first();\n",
    "landcover = nlcd2016.select('landcover');\n",
    "Map.addLayer(landcover, {}, 'landcover')\n",
    "\n",
    "# Map.addLayer(\n",
    "#     landcover,\n",
    "#     {'bands': ['landcover'], 'min': 0, 'max': 95},\n",
    "#     'landcover',\n",
    "# )\n",
    "Map\n",
    "\n",
    "#county = ee.Image(\"TIGER/2016/Counties\") #.filter(ee.Filter.eq('STATEFP', '23'));\n",
    "county = ee.FeatureCollection(\"TIGER/2020/TRACT\").filter(ee.Filter.eq('STATEFP', '23'));\n",
    "#county =ee.FeatureCollection(\"TIGER/2020/TABBLOCK20\").filter(ee.Filter.eq('COUNTYFP20', '103')).filter(ee.Filter.eq('STATEFP20', '13'));\n",
    "#county =ee.FeatureCollection(\"TIGER/2010/BG\").filter(ee.Filter.eq('COUNTYFP10', DF['COUNTYFP'][i])).filter(ee.Filter.eq('STATEFP20',DF['STATEFP'][i]));\n",
    "\n",
    "Map.addLayer(county, {}, 'US States')\n",
    "Map"
   ]
  },
  {
   "cell_type": "markdown",
   "id": "a794c1a8",
   "metadata": {},
   "source": [
    "## mapping landcover 2019 and state boundary"
   ]
  },
  {
   "cell_type": "code",
   "execution_count": null,
   "id": "1ea9eb0a",
   "metadata": {},
   "outputs": [],
   "source": [
    "Map = geemap.Map(center=[40, -100], zoom=4)\n",
    "\n",
    "dataset = ee.Image('USGS/NLCD_RELEASES/2019_REL/NLCD/2019')\n",
    "landcover = dataset.select('landcover')\n",
    "Map.addLayer(landcover, {}, 'NLCD 2019')\n",
    "\n",
    "states = ee.FeatureCollection(\"TIGER/2018/States\")\n",
    "Map.addLayer(states, {}, 'US States')\n",
    "Map.add_legend(builtin_legend='NLCD')\n",
    "Map"
   ]
  },
  {
   "cell_type": "markdown",
   "id": "218420c0",
   "metadata": {},
   "source": [
    "# zonal stat "
   ]
  },
  {
   "cell_type": "markdown",
   "id": "1ab3943e",
   "metadata": {},
   "source": [
    "# census tract level (2010 census boundary)"
   ]
  },
  {
   "cell_type": "code",
   "execution_count": null,
   "id": "8b96a513",
   "metadata": {},
   "outputs": [],
   "source": [
    "DF = pd.read_csv('D:/DATA/NHGIS/nhgis0026_shape (1)/nhgis0026_shape/nhgis0026_shapefile_tl2010_us_tract_2010/US_tract_2010.csv')\n",
    "\n",
    "DF['GEOID'] =DF['GEOID'].apply(lambda x: '{0:0>11}'.format(x))\n",
    "DF"
   ]
  },
  {
   "cell_type": "code",
   "execution_count": null,
   "id": "797b21bd",
   "metadata": {},
   "outputs": [],
   "source": [
    "Map = geemap.Map(center=[40, -100], zoom=4)\n",
    "\n",
    "dataset = ee.ImageCollection('USGS/NLCD_RELEASES/2016_REL')\n",
    "nlcd2016 = dataset.filter(ee.Filter.eq('system:index', '2016')).first();\n",
    "landcover = nlcd2016.select('landcover');\n",
    "# Map.addLayer(landcover, {}, 'landcover')\n",
    "# i=1\n",
    "# states = ee.FeatureCollection(\"TIGER/2010/BG\").filter(ee.Filter.eq('COUNTYFP10', DF['COUNTYFP'][i])).filter(ee.Filter.eq('STATEFP10',DF['STATEFP'][i]));\n",
    "# Map.addLayer(states, {}, 'US States')\n",
    "# Map.add_legend(builtin_legend='NLCD')\n",
    "# Map\n",
    "\n",
    "\n",
    "for i in range(0,len(DF)):\n",
    "    county = ee.FeatureCollection(\"TIGER/2010/Tracts_DP1\").filter(ee.Filter.eq('geoid10', DF['GEOID'][i]));\n",
    "    #county =ee.FeatureCollection(\"TIGER/2020/TABBLOCK20\").filter(ee.Filter.eq('COUNTYFP20', DF['COUNTYFP'][i])).filter(ee.Filter.eq('STATEFP20',DF['STATEFP'][i]));\n",
    "    #county =ee.FeatureCollection(\"TIGER/2010/BG\").filter(ee.Filter.eq('COUNTYFP10', DF['COUNTYFP'][i])).filter(ee.Filter.eq('STATEFP10',DF['STATEFP'][i]));\n",
    "\n",
    "    nlcd_stats = './censustract2010boundary/lu_stats'+str(DF['GEOID'][i])+'.csv'\n",
    "    try:\n",
    "        geemap.zonal_statistics_by_group(\n",
    "            landcover,\n",
    "            county,\n",
    "            nlcd_stats,\n",
    "            statistics_type='SUM',\n",
    "            denominator=1000000,\n",
    "            decimal_places=2,\n",
    "        )\n",
    "    except Exception:\n",
    "        pass"
   ]
  },
  {
   "cell_type": "markdown",
   "id": "9fe13444",
   "metadata": {},
   "source": [
    "# census tract level (2020 census boundary)"
   ]
  },
  {
   "cell_type": "code",
   "execution_count": 4,
   "id": "c3929123",
   "metadata": {},
   "outputs": [
    {
     "data": {
      "text/plain": [
       "3233"
      ]
     },
     "execution_count": 4,
     "metadata": {},
     "output_type": "execute_result"
    }
   ],
   "source": [
    "DF = pd.read_csv('./countyfips.csv')\n",
    "DF['STATEFP'] =DF['STATEFP'].apply(lambda x: '{0:0>2}'.format(x))\n",
    "DF['COUNTYFP'] =DF['COUNTYFP'].apply(lambda x: '{0:0>3}'.format(x))\n",
    "DF.loc[932]\n",
    "#DF.loc[DF.GEOID ==78010]\n",
    "len(DF)"
   ]
  },
  {
   "cell_type": "code",
   "execution_count": null,
   "id": "9c85acab",
   "metadata": {},
   "outputs": [],
   "source": [
    "dataset = ee.ImageCollection('USGS/NLCD_RELEASES/2016_REL')\n",
    "nlcd2016 = dataset.filter(ee.Filter.eq('system:index', '2016')).first();\n",
    "landcover = nlcd2016.select('landcover');\n",
    "\n",
    "\n",
    "for i in range(0,len(DF)):\n",
    "    county = ee.FeatureCollection(\"TIGER/2020/TRACT\").filter(ee.Filter.eq('STATEFP', fips));\n",
    "    #county =ee.FeatureCollection(\"TIGER/2020/TABBLOCK20\").filter(ee.Filter.eq('COUNTYFP20', DF['COUNTYFP'][i])).filter(ee.Filter.eq('STATEFP20',DF['STATEFP'][i]));\n",
    "    #county =ee.FeatureCollection(\"TIGER/2010/BG\").filter(ee.Filter.eq('COUNTYFP10', DF['COUNTYFP'][i])).filter(ee.Filter.eq('STATEFP10',DF['STATEFP'][i]));\n",
    "\n",
    "    nlcd_stats = './censustract2020boundary/lu_stats'+DF['STATEFP'][i]+ DF['COUNTYFP'][i]+'.csv'\n",
    "    try:\n",
    "        geemap.zonal_statistics_by_group(\n",
    "            landcover,\n",
    "            county,\n",
    "            nlcd_stats,\n",
    "            statistics_type='SUM',\n",
    "            denominator=1000000,\n",
    "            decimal_places=2,\n",
    "        )\n",
    "    except Exception:\n",
    "        pass"
   ]
  },
  {
   "cell_type": "markdown",
   "id": "7a2a4fc3",
   "metadata": {},
   "source": [
    "# Census block level (2010 census boundary) "
   ]
  },
  {
   "cell_type": "code",
   "execution_count": null,
   "id": "61d0551a",
   "metadata": {},
   "outputs": [],
   "source": [
    "dataset = ee.ImageCollection('USGS/NLCD_RELEASES/2016_REL')\n",
    "nlcd2016 = dataset.filter(ee.Filter.eq('system:index', '2016')).first();\n",
    "landcover = nlcd2016.select('landcover');\n",
    "\n",
    "for i in range(0,len(DF)):\n",
    "    #county = ee.FeatureCollection(\"TIGER/2020/TRACT\").filter(ee.Filter.eq('STATEFP', fips));\n",
    "    #county =ee.FeatureCollection(\"TIGER/2020/TABBLOCK20\").filter(ee.Filter.eq('COUNTYFP20', DF['COUNTYFP'][i])).filter(ee.Filter.eq('STATEFP20',DF['STATEFP'][i]));\n",
    "    county =ee.FeatureCollection(\"TIGER/2010/BG\").filter(ee.Filter.eq('COUNTYFP10', DF['COUNTYFP'][i])).filter(ee.Filter.eq('STATEFP10',DF['STATEFP'][i]));\n",
    "\n",
    "    nlcd_stats = './censustract2010boundary/lu_stats'+DF['STATEFP'][i]+ DF['COUNTYFP'][i]+'.csv'\n",
    "    try:\n",
    "        geemap.zonal_statistics_by_group(\n",
    "            landcover,\n",
    "            county,\n",
    "            nlcd_stats,\n",
    "            statistics_type='SUM',\n",
    "            denominator=1000000,\n",
    "            decimal_places=2,\n",
    "        )\n",
    "    except Exception:\n",
    "        pass"
   ]
  },
  {
   "cell_type": "markdown",
   "id": "d4a951ee",
   "metadata": {},
   "source": [
    "# census block level (2020 census boundary)"
   ]
  },
  {
   "cell_type": "code",
   "execution_count": null,
   "id": "d509667e",
   "metadata": {},
   "outputs": [],
   "source": [
    "dataset = ee.ImageCollection('USGS/NLCD_RELEASES/2016_REL')\n",
    "nlcd2016 = dataset.filter(ee.Filter.eq('system:index', '2016')).first();\n",
    "landcover = nlcd2016.select('landcover');\n",
    "\n",
    "\n",
    "for i in range(0,len(DF)):\n",
    "    #county = ee.FeatureCollection(\"TIGER/2020/TRACT\").filter(ee.Filter.eq('STATEFP', fips));\n",
    "    county =ee.FeatureCollection(\"TIGER/2020/TABBLOCK20\").filter(ee.Filter.eq('COUNTYFP20', DF['COUNTYFP'][i])).filter(ee.Filter.eq('STATEFP20',DF['STATEFP'][i]));\n",
    "    #county =ee.FeatureCollection(\"TIGER/2010/BG\").filter(ee.Filter.eq('COUNTYFP10', DF['COUNTYFP'][i])).filter(ee.Filter.eq('STATEFP10',DF['STATEFP'][i]));\n",
    "\n",
    "    nlcd_stats = './censustract2010boundary/lu_stats'+DF['STATEFP'][i]+ DF['COUNTYFP'][i]+'.csv'\n",
    "    try:\n",
    "        geemap.zonal_statistics_by_group(\n",
    "            landcover,\n",
    "            county,\n",
    "            nlcd_stats,\n",
    "            statistics_type='SUM',\n",
    "            denominator=1000000,\n",
    "            decimal_places=2,\n",
    "        )\n",
    "    except Exception:\n",
    "        pass"
   ]
  },
  {
   "cell_type": "code",
   "execution_count": null,
   "id": "608710ba",
   "metadata": {},
   "outputs": [],
   "source": []
  },
  {
   "cell_type": "code",
   "execution_count": null,
   "id": "7a14e822",
   "metadata": {},
   "outputs": [],
   "source": []
  }
 ],
 "metadata": {
  "kernelspec": {
   "display_name": "Python 3 (ipykernel)",
   "language": "python",
   "name": "python3"
  },
  "language_info": {
   "codemirror_mode": {
    "name": "ipython",
    "version": 3
   },
   "file_extension": ".py",
   "mimetype": "text/x-python",
   "name": "python",
   "nbconvert_exporter": "python",
   "pygments_lexer": "ipython3",
   "version": "3.10.5"
  }
 },
 "nbformat": 4,
 "nbformat_minor": 5
}
